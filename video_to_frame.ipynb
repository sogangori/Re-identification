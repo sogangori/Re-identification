{
 "cells": [
  {
   "cell_type": "markdown",
   "metadata": {},
   "source": [
    "!pip install opencv-python"
   ]
  },
  {
   "cell_type": "code",
   "execution_count": 1,
   "metadata": {},
   "outputs": [],
   "source": [
    "import cv2\n",
    "import numpy as np\n",
    "import os\n",
    "import time\n",
    "import matplotlib.pyplot as plt\n",
    "from PIL import Image"
   ]
  },
  {
   "cell_type": "code",
   "execution_count": 2,
   "metadata": {},
   "outputs": [],
   "source": [
    "def frames_to_video(inputpath,outputpath,fps):\n",
    "   image_array = []\n",
    "   files = [f for f in os.listdir(inputpath) if isfile(join(inputpath, f))]\n",
    "   files.sort(key = lambda x: int(x[5:-4]))\n",
    "   for i in range(len(files)):\n",
    "       img = cv2.imread(inputpath + files[i])\n",
    "       size =  (img.shape[1],img.shape[0])\n",
    "       img = cv2.resize(img,size)\n",
    "       image_array.append(img)\n",
    "   fourcc = cv2.VideoWriter_fourcc('D', 'I', 'V', 'X')\n",
    "   out = cv2.VideoWriter(outputpath,fourcc, fps, size)\n",
    "   for i in range(len(image_array)):\n",
    "       out.write(image_array[i])\n",
    "   out.release()\n"
   ]
  },
  {
   "cell_type": "code",
   "execution_count": 17,
   "metadata": {},
   "outputs": [],
   "source": [
    "def video_to_frames(input_loc, output_loc):\n",
    "    \"\"\"Function to extract frames from input video file\n",
    "    and save them as separate frames in an output directory.\n",
    "    Args:\n",
    "        input_loc: Input video file.\n",
    "        output_loc: Output directory to save the frames.\n",
    "    Returns:\n",
    "        None\n",
    "    \"\"\"\n",
    "    try:\n",
    "        os.mkdir(output_loc)\n",
    "    except OSError:\n",
    "        pass\n",
    "    # Log the time\n",
    "    time_start = time.time()\n",
    "    # Start capturing the feed\n",
    "    cap = cv2.VideoCapture(input_loc)\n",
    "    # Find the number of frames\n",
    "    \n",
    "    video_length = int(cap.get(cv2.CAP_PROP_FRAME_COUNT)) - 1\n",
    "    print (\"Number of frames: \", video_length)\n",
    "    count = 0\n",
    "    print (\"Converting video..\\n\")\n",
    "    # Start converting the video\n",
    "    \n",
    "    while cap.isOpened():\n",
    "        # Extract the frame\n",
    "        ret, frame = cap.read()\n",
    "        # Write the results back to output location.\n",
    "        file_name = output_loc +\"/%#05d.jpg\"  % (count+1)\n",
    "       \n",
    "        #cv2.imwrite(file_name, frame)\n",
    "        b, g, r = np.split(frame, 3, -1)\n",
    "        rgb = np.concatenate((r,g,b), -1)        \n",
    "        img = Image.fromarray(rgb)\n",
    "        img.save(file_name)\n",
    "        count = count + 1\n",
    "        # If there are no more frames left\n",
    "        if count%100==0:\n",
    "            print('count', video_length, count)\n",
    "        if (count > (video_length-1)):\n",
    "            # Log the time again\n",
    "            time_end = time.time()\n",
    "            # Release the feed\n",
    "            cap.release()\n",
    "            # Print stats\n",
    "            print (\"Done extracting frames.\\n%d frames extracted\" % count)\n",
    "            print (\"It took %d seconds forconversion.\" % (time_end-time_start))\n",
    "            break\n"
   ]
  },
  {
   "cell_type": "code",
   "execution_count": 18,
   "metadata": {},
   "outputs": [
    {
     "name": "stdout",
     "output_type": "stream",
     "text": [
      "Number of frames:  142\n",
      "Converting video..\n",
      "\n",
      "count 142 100\n",
      "Done extracting frames.\n",
      "142 frames extracted\n",
      "It took 9 seconds forconversion.\n"
     ]
    }
   ],
   "source": [
    "input_loc = 'C:/Users/sogan/Downloads/샘플동영상+데이터셋통계/샘플동영상/1_RGB.mp4'\n",
    "output_loc = 'C:/Users/sogan/Downloads/샘플동영상+데이터셋통계/샘플동영상/1_RGB/'\n",
    "video_to_frames(input_loc, output_loc)"
   ]
  },
  {
   "cell_type": "code",
   "execution_count": null,
   "metadata": {},
   "outputs": [],
   "source": []
  }
 ],
 "metadata": {
  "kernelspec": {
   "display_name": "Python 3",
   "language": "python",
   "name": "python3"
  },
  "language_info": {
   "codemirror_mode": {
    "name": "ipython",
    "version": 3
   },
   "file_extension": ".py",
   "mimetype": "text/x-python",
   "name": "python",
   "nbconvert_exporter": "python",
   "pygments_lexer": "ipython3",
   "version": "3.8.3"
  }
 },
 "nbformat": 4,
 "nbformat_minor": 4
}
